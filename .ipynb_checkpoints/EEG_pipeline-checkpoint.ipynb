{
 "cells": [
  {
   "cell_type": "markdown",
   "id": "a82211ed-d7f2-4ac7-98f9-72704a51ad3e",
   "metadata": {
    "tags": []
   },
   "source": [
    "# Pipeline for EEG processing"
   ]
  },
  {
   "cell_type": "markdown",
   "id": "852f1d94-1f4a-4f36-9346-cc1c64d1b95c",
   "metadata": {
    "tags": []
   },
   "source": [
    "EEG processing pipeline for research proposal for graduate admissions 2023 (created by Felix Zakirov)\n",
    "https://github.com/fzakirov/RP\n",
    "\n",
    "Here the processing is shown for sample recording \"ID001.fif\""
   ]
  },
  {
   "cell_type": "code",
   "execution_count": null,
   "id": "be35dbb4",
   "metadata": {
    "id": "be35dbb4"
   },
   "outputs": [],
   "source": [
    "import mne\n",
    "import os\n",
    "import numpy as np\n",
    "import pandas as pd\n",
    "import matplotlib.pyplot as plt\n",
    "%matplotlib qt"
   ]
  },
  {
   "cell_type": "code",
   "execution_count": null,
   "id": "adefaadd",
   "metadata": {},
   "outputs": [],
   "source": [
    "import tfa # custom set of functions for time-frequency analysis and plotting"
   ]
  },
  {
   "cell_type": "code",
   "execution_count": null,
   "id": "b3b5022e",
   "metadata": {
    "id": "b3b5022e",
    "scrolled": true
   },
   "outputs": [],
   "source": [
    "# reading raw EEG + filtering\n",
    "raw=mne.io.read_raw_fif('ID001.fif', preload=True)\n",
    "raw.filter(0.1, 40.,phase='zero-double');"
   ]
  },
  {
   "cell_type": "code",
   "execution_count": null,
   "id": "505ed6d3",
   "metadata": {
    "id": "505ed6d3",
    "outputId": "e7798bf1-613d-4af9-e669-b170b91e39cf"
   },
   "outputs": [],
   "source": [
    "# look through recording, indicating bad channels\n",
    "raw.plot();"
   ]
  },
  {
   "cell_type": "code",
   "execution_count": null,
   "id": "b6bdb372",
   "metadata": {
    "id": "b6bdb372",
    "outputId": "1937a2f8-0613-4145-bf54-eb94e84eacc6",
    "scrolled": false
   },
   "outputs": [],
   "source": [
    "# setting 10-20 montage\n",
    "raw.set_montage('standard_1020')"
   ]
  },
  {
   "cell_type": "code",
   "execution_count": null,
   "id": "80994fb0",
   "metadata": {
    "id": "80994fb0",
    "outputId": "3b667761-ad43-4438-a978-d2758606a23d"
   },
   "outputs": [],
   "source": [
    "#extracting events info\n",
    "events=mne.events_from_annotations(raw)"
   ]
  },
  {
   "cell_type": "code",
   "execution_count": null,
   "id": "950b3ce9",
   "metadata": {
    "id": "950b3ce9",
    "outputId": "42f5d9c8-57a9-41ab-e4ed-d32c4528e817",
    "scrolled": false
   },
   "outputs": [],
   "source": [
    "# inspecting evoked for bad channels\n",
    "epochs=mne.Epochs(raw, events[0])\n",
    "epochs.average().plot();"
   ]
  },
  {
   "cell_type": "code",
   "execution_count": null,
   "id": "641d5b48",
   "metadata": {
    "id": "641d5b48"
   },
   "outputs": [],
   "source": [
    "# defining list of channels to reject/interpolate\n",
    "list_of_bads=['FC2']"
   ]
  },
  {
   "cell_type": "code",
   "execution_count": null,
   "id": "1852395e",
   "metadata": {
    "id": "1852395e",
    "scrolled": true
   },
   "outputs": [],
   "source": [
    "# interpolating bads\n",
    "raw.info['bads']=list_of_bads\n",
    "raw.interpolate_bads()"
   ]
  },
  {
   "cell_type": "code",
   "execution_count": null,
   "id": "6eaf947f",
   "metadata": {
    "id": "6eaf947f"
   },
   "outputs": [],
   "source": [
    "# average referencing\n",
    "raw.set_eeg_reference(ref_channels='average');"
   ]
  },
  {
   "cell_type": "code",
   "execution_count": null,
   "id": "31aa2106",
   "metadata": {
    "id": "31aa2106",
    "scrolled": true
   },
   "outputs": [],
   "source": [
    "# ICA\n",
    "ica = mne.preprocessing.ICA(n_components=20, random_state=97)\n",
    "ica.fit(raw)\n",
    "ica.plot_components(picks=range(20), inst=raw);\n",
    "ica.plot_sources(raw);"
   ]
  },
  {
   "cell_type": "code",
   "execution_count": null,
   "id": "ddda2689",
   "metadata": {
    "id": "ddda2689",
    "scrolled": true
   },
   "outputs": [],
   "source": [
    "ica_exclude=[0,1,2] #example\n",
    "\n",
    "ica.exclude=ica_exclude\n",
    "ica.apply(raw)"
   ]
  },
  {
   "cell_type": "code",
   "execution_count": null,
   "id": "af0dcd05-3a32-43a9-a6f1-3f230b60377f",
   "metadata": {},
   "outputs": [],
   "source": [
    "# defining rejecting (peak-to-peak amplitude) for epoching if needed\n",
    "threshold=dict(eeg=150e-6)\n",
    "tmin=-0.5\n",
    "tmax=2"
   ]
  },
  {
   "cell_type": "code",
   "execution_count": null,
   "id": "ed82b9be",
   "metadata": {
    "id": "ed82b9be"
   },
   "outputs": [],
   "source": [
    "# epoch extraction\n",
    "epochs=mne.Epochs(raw, events[0],\n",
    "                  reject=threshold, \n",
    "                  baseline=(-0.2, 0.0), tmin=tmin, tmax=tmax, preload=True)"
   ]
  },
  {
   "cell_type": "code",
   "execution_count": null,
   "id": "5c7c9b9f",
   "metadata": {
    "id": "5c7c9b9f"
   },
   "outputs": [],
   "source": [
    "# rejecting epochs by +-3sd threshold (optional)\n",
    "funcs.drop_epochs_by_sigma(epochs, 3)"
   ]
  },
  {
   "cell_type": "code",
   "execution_count": null,
   "id": "33034b08",
   "metadata": {
    "id": "33034b08"
   },
   "outputs": [],
   "source": [
    "# saving processed epochs\n",
    "epochs.save('ID001-epo.fif')"
   ]
  },
  {
   "cell_type": "code",
   "execution_count": null,
   "id": "2040eb67",
   "metadata": {},
   "outputs": [],
   "source": [
    "# create evoked object\n",
    "evoked=epochs.average()"
   ]
  },
  {
   "cell_type": "code",
   "execution_count": null,
   "id": "a1a999f1",
   "metadata": {
    "id": "a1a999f1",
    "tags": []
   },
   "outputs": [],
   "source": [
    "# plotting ERP\n",
    "mne.viz.plot_compare_evokeds({evoked:'some_cue',\n",
    "                             }, axes='topo');"
   ]
  },
  {
   "cell_type": "code",
   "execution_count": null,
   "id": "762bbd56",
   "metadata": {},
   "outputs": [],
   "source": [
    "# extracting PSD and TFR objects\n",
    "fmin=0\n",
    "fmax=35\n",
    "freqs=np.arange(0.2, 35, 0.2)\n",
    "n_cycles = freqs\n",
    "tmin=0\n",
    "tmax=2\n",
    "\n",
    "psd=mne.time_frequency.psd_welch(evoked, picks=picks, tmin=tmin,\n",
    "                                    fmin=fmin, fmax=fmax)\n",
    "tfr=mne.time_frequency.tfr_multitaper(evoked, freqs=freqs, \n",
    "                           n_cycles=n_cycles, use_fft=True, return_itc=False, decim=3, n_jobs=1)"
   ]
  },
  {
   "cell_type": "code",
   "execution_count": null,
   "id": "fa835d6d",
   "metadata": {},
   "outputs": [],
   "source": [
    "#basic TFR plotting\n",
    "tfr.plot(fmin=fmin, fmax=fmax, tmin=tmin, tmax=tmax, baseline=None)"
   ]
  }
 ],
 "metadata": {
  "colab": {
   "name": "basic_pipeline.ipynb",
   "provenance": []
  },
  "kernelspec": {
   "display_name": "Python 3 (ipykernel)",
   "language": "python",
   "name": "python3"
  },
  "language_info": {
   "codemirror_mode": {
    "name": "ipython",
    "version": 3
   },
   "file_extension": ".py",
   "mimetype": "text/x-python",
   "name": "python",
   "nbconvert_exporter": "python",
   "pygments_lexer": "ipython3",
   "version": "3.9.12"
  }
 },
 "nbformat": 4,
 "nbformat_minor": 5
}
